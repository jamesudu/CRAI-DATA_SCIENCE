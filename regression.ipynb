{
 "cells": [
  {
   "cell_type": "code",
   "execution_count": 1,
   "metadata": {},
   "outputs": [],
   "source": [
    "import pandas as pd \n",
    "import matplotlib.pyplot as plt \n",
    "import seaborn as sns \n",
    "import numpy as np "
   ]
  },
  {
   "cell_type": "code",
   "execution_count": 7,
   "metadata": {},
   "outputs": [],
   "source": [
    "from sklearn.tree import DecisionTreeRegressor\n",
    "from sklearn.linear_model import LinearRegression\n",
    "from sklearn.ensemble import RandomForestRegressor\n",
    "from sklearn.preprocessing import StandardScaler\n",
    "from sklearn.model_selection import train_test_split\n",
    "from sklearn.metrics import mean_squared_error"
   ]
  },
  {
   "cell_type": "code",
   "execution_count": 3,
   "metadata": {},
   "outputs": [],
   "source": [
    "df = pd.read_csv(\"Medical_insurance_dataset.csv\")\n",
    "cols = ['User ID', 'Gender', 'Age', 'EstimatedSalary', 'Purchased']\n"
   ]
  },
  {
   "cell_type": "code",
   "execution_count": 4,
   "metadata": {},
   "outputs": [],
   "source": [
    "df[\"Gender\"] = (df[\"Gender\"] == \"Female\").astype(int)\n",
    "df[\"Purchased\"] = (df[\"Purchased\"] == \"purchased\").astype(int)"
   ]
  },
  {
   "cell_type": "code",
   "execution_count": 5,
   "metadata": {},
   "outputs": [
    {
     "data": {
      "text/plain": [
       "((320, 4),       User ID  Gender  Age  EstimatedSalary\n",
       " 136  15668504       1   20            82000\n",
       " 270  15680752       1   43           133000\n",
       " 108  15720943       0   26            86000\n",
       " 391  15592570       0   47            23000\n",
       " 315  15594762       1   39            75000\n",
       " ..        ...     ...  ...              ...\n",
       " 43   15792008       0   30            15000\n",
       " 383  15707634       0   49            28000\n",
       " 278  15613014       1   52            38000\n",
       " 96   15710257       1   35            25000\n",
       " 129  15792102       1   26            84000\n",
       " \n",
       " [80 rows x 4 columns], 32     0\n",
       " 350    1\n",
       " 370    1\n",
       " 374    0\n",
       " 124    0\n",
       "       ..\n",
       " 342    0\n",
       " 246    0\n",
       " 169    0\n",
       " 358    1\n",
       " 165    0\n",
       " Name: Purchased, Length: 320, dtype: int32, 136    0\n",
       " 270    0\n",
       " 108    0\n",
       " 391    1\n",
       " 315    1\n",
       "       ..\n",
       " 43     0\n",
       " 383    1\n",
       " 278    1\n",
       " 96     0\n",
       " 129    0\n",
       " Name: Purchased, Length: 80, dtype: int32)"
      ]
     },
     "execution_count": 5,
     "metadata": {},
     "output_type": "execute_result"
    }
   ],
   "source": [
    "X = df.drop(columns=['Purchased'])\n",
    "y = df['Purchased']\n",
    "X_train, X_test, y_train,y_test = train_test_split(X, y, test_size=0.2)\n",
    "X_train.shape, X_test, y_train, y_test"
   ]
  },
  {
   "cell_type": "code",
   "execution_count": 6,
   "metadata": {},
   "outputs": [
    {
     "data": {
      "text/plain": [
       "array([[<matplotlib.axes._subplots.AxesSubplot object at 0x000001339C799B88>,\n",
       "        <matplotlib.axes._subplots.AxesSubplot object at 0x000001339C83E348>],\n",
       "       [<matplotlib.axes._subplots.AxesSubplot object at 0x000001339C875D08>,\n",
       "        <matplotlib.axes._subplots.AxesSubplot object at 0x000001339C8ADDC8>],\n",
       "       [<matplotlib.axes._subplots.AxesSubplot object at 0x000001339C8E4EC8>,\n",
       "        <matplotlib.axes._subplots.AxesSubplot object at 0x000001339C922048>]],\n",
       "      dtype=object)"
      ]
     },
     "execution_count": 6,
     "metadata": {},
     "output_type": "execute_result"
    },
    {
     "data": {
      "image/png": "[encoded data removed]",
      "text/plain": [
       "<Figure size 432x864 with 6 Axes>"
      ]
     },
     "metadata": {
      "needs_background": "light"
     },
     "output_type": "display_data"
    }
   ],
   "source": [
    "df.hist(figsize=(6, 12))"
   ]
  },
  {
   "cell_type": "code",
   "execution_count": null,
   "metadata": {},
   "outputs": [],
   "source": [
    "ran_model = RandomForestRegressor()\n",
    "X_train = ran_model.fit_transform(X_train)\n",
    "X_test = ran_model.fit_transform(X_test)"
   ]
  },
  {
   "cell_type": "code",
   "execution_count": 8,
   "metadata": {},
   "outputs": [
    {
     "name": "stderr",
     "output_type": "stream",
     "text": [
      "c:\\Users\\HP.COM\\Anaconda3\\lib\\site-packages\\sklearn\\ensemble\\forest.py:245: FutureWarning: The default value of n_estimators will change from 10 in version 0.20 to 100 in 0.22.\n",
      "  \"10 in version 0.20 to 100 in 0.22.\", FutureWarning)\n"
     ]
    },
    {
     "data": {
      "text/plain": [
       "0.1085"
      ]
     },
     "execution_count": 8,
     "metadata": {},
     "output_type": "execute_result"
    }
   ],
   "source": [
    "model = RandomForestRegressor()\n",
    "model.fit(X_train, y_train)\n",
    "predictions = model.predict(X_test)\n",
    "\n",
    "mse = mean_squared_error(y_test, predictions)\n",
    "mse"
   ]
  }
 ],
 "metadata": {
  "kernelspec": {
   "display_name": "base",
   "language": "python",
   "name": "python3"
  },
  "language_info": {
   "codemirror_mode": {
    "name": "ipython",
    "version": 3
   },
   "file_extension": ".py",
   "mimetype": "text/x-python",
   "name": "python",
   "nbconvert_exporter": "python",
   "pygments_lexer": "ipython3",
   "version": "3.7.4"
  }
 },
 "nbformat": 4,
 "nbformat_minor": 2
}
